{
 "cells": [
  {
   "cell_type": "code",
   "execution_count": 1,
   "metadata": {},
   "outputs": [],
   "source": [
    "import pandas as pd\n",
    "import numpy as np\n",
    "\n",
    "import scipy.io as sio\n",
    "from mat4py import loadmat\n",
    "\n",
    "from sklearn.ensemble import RandomForestClassifier\n",
    "from sklearn.metrics import classification_report\n",
    "from sklearn.preprocessing import normalize\n",
    "from sklearn.model_selection import train_test_split\n",
    "\n",
    "import pickle"
   ]
  },
  {
   "cell_type": "markdown",
   "metadata": {},
   "source": [
    "# Criando os métodos"
   ]
  },
  {
   "cell_type": "code",
   "execution_count": 2,
   "metadata": {},
   "outputs": [],
   "source": [
    "def geraDatas(iniPessoas = 1, qtdPessoas = 1):\n",
    "    #Pegandos os dados\n",
    "    datas = []\n",
    "    \n",
    "    for i in range(iniPessoas, iniPessoas + qtdPessoas):\n",
    "        try:\n",
    "            datas.append((loadmat(str(i).zfill(2) + \"_session1.mat\"), loadmat(str(i).zfill(2) + \"_session2.mat\")))\n",
    "        except:\n",
    "            print(\"Arquivo \" + str(i).zfill(2) + \" não existe\")\n",
    "        \n",
    "    return datas"
   ]
  },
  {
   "cell_type": "code",
   "execution_count": 35,
   "metadata": {},
   "outputs": [],
   "source": [
    "def geraDf(datas):    \n",
    "    eletrodos = [\"F3\", \"F4\", \"AF3\", \"AF4\", \"C5\", \"C6\", \"C3\", \"C4\", \"C1\", \"C2\", \"P3\", \"P4\", \"P5\", \"P6\", \"Fz\", \"Cz\"]\n",
    "    \n",
    "    #Encontrando os dados\n",
    "    lisRes = []\n",
    "    lisCon = []\n",
    "    \n",
    "    for pessoa in datas:\n",
    "        try:\n",
    "            lisRes.append(pd.DataFrame(pessoa[0][\"dataBeforeSession\"], columns = eletrodos))\n",
    "            lisRes.append(pd.DataFrame(pessoa[0][\"dataAfterSession\"], columns = eletrodos))\n",
    "            lisRes.append(pd.DataFrame(pessoa[1][\"dataBeforeSession\"], columns = eletrodos)) \n",
    "            lisRes.append(pd.DataFrame(pessoa[1][\"dataAfterSession\"], columns = eletrodos))\n",
    "\n",
    "            lisCon.append(pd.DataFrame(pessoa[0][\"dataDuringSession\"], columns = eletrodos))\n",
    "            \n",
    "        except:\n",
    "            print(\"Erro na Pessoa \" + str(pessoa[2]).zfill(2))\n",
    "        \n",
    "    #Gerando os dfs separados\n",
    "    dfRes = pd.concat(lisRes)\n",
    "    dfCon = pd.concat(lisCon)\n",
    "        \n",
    "    #Classificando os dfs\n",
    "    dfRes['State'] = 0 #Relaxado\n",
    "    dfCon['State'] = 1 #Concentrado\n",
    "    \n",
    "    #Juntando os dfs\n",
    "    df = pd.concat([dfRes, dfCon])\n",
    "    df.reset_index(inplace = True)\n",
    "    df.drop(['index'], axis=1, inplace = True)\n",
    "    \n",
    "    return df"
   ]
  },
  {
   "cell_type": "code",
   "execution_count": 18,
   "metadata": {},
   "outputs": [],
   "source": [
    "def testeEspecificidade(modelo, iniPessoas = 1, qtdPessoas = 1):\n",
    "    df = geraDf(geraDatas(5, 2))\n",
    "    testePrecisao(modelo, df.drop('State',axis=1), df['State'])"
   ]
  },
  {
   "cell_type": "code",
   "execution_count": 19,
   "metadata": {},
   "outputs": [],
   "source": [
    "def testePrecisao(modelo, df_x, df_y):\n",
    "    predict = modelo.predict(df_x)\n",
    "    print(classification_report(df_y, predict))"
   ]
  },
  {
   "cell_type": "code",
   "execution_count": 20,
   "metadata": {},
   "outputs": [],
   "source": [
    "def geraModeloML(iniPessoas = 1, qtdPessoas = 1, estimators = 50):\n",
    "    #Pegandos os dados\n",
    "    datas = geraDatas(iniPessoas, qtdPessoas)\n",
    "    print(\"Dados coletados\")\n",
    "        \n",
    "    #Criando o df\n",
    "    df = geraDf(datas)\n",
    "    print(\"---------------\")\n",
    "    print(\"DataFrame criado\")\n",
    "    print(\"---------------\")\n",
    "    \n",
    "    #Dividindo os dados\n",
    "    x_train, x_test, y_train, y_test = train_test_split(df.drop('State',axis=1), \n",
    "                                                    df['State'], test_size=0.20)\n",
    "        \n",
    "    #Treinando\n",
    "    dtree = RandomForestClassifier(n_estimators = estimators,verbose = 2, n_jobs = -1)\n",
    "    dtree.fit(x_train, y_train)\n",
    "    print(\"---------------\")\n",
    "    print(\"Modelo treinado\")\n",
    "    print(\"---------------\")\n",
    "    \n",
    "    #Teste de precisao\n",
    "    testePrecisao(dtree, x_test, y_test)\n",
    "    \n",
    "    return dtree"
   ]
  },
  {
   "cell_type": "markdown",
   "metadata": {},
   "source": [
    "# Usando ML"
   ]
  },
  {
   "cell_type": "code",
   "execution_count": 30,
   "metadata": {},
   "outputs": [
    {
     "name": "stdout",
     "output_type": "stream",
     "text": [
      "Arquivo 03 não existe\n",
      "Dados coletados\n"
     ]
    },
    {
     "name": "stderr",
     "output_type": "stream",
     "text": [
      "C:\\Users\\Pedro\\Anaconda3\\lib\\site-packages\\ipykernel_launcher.py:29: SettingWithCopyWarning: \n",
      "A value is trying to be set on a copy of a slice from a DataFrame\n",
      "\n",
      "See the caveats in the documentation: http://pandas.pydata.org/pandas-docs/stable/user_guide/indexing.html#returning-a-view-versus-a-copy\n"
     ]
    },
    {
     "name": "stdout",
     "output_type": "stream",
     "text": [
      "---------------\n",
      "DataFrame criado\n",
      "---------------\n"
     ]
    },
    {
     "name": "stderr",
     "output_type": "stream",
     "text": [
      "[Parallel(n_jobs=-1)]: Using backend ThreadingBackend with 8 concurrent workers.\n"
     ]
    },
    {
     "name": "stdout",
     "output_type": "stream",
     "text": [
      "building tree 1 of 25\n",
      "building tree 2 of 25\n",
      "building tree 3 of 25\n",
      "building tree 4 of 25\n",
      "building tree 5 of 25\n",
      "building tree 6 of 25building tree 7 of 25building tree 8 of 25\n",
      "\n",
      "\n",
      "building tree 9 of 25\n",
      "building tree 10 of 25\n",
      "building tree 11 of 25\n",
      "building tree 12 of 25\n",
      "building tree 13 of 25\n",
      "building tree 14 of 25\n",
      "building tree 15 of 25\n",
      "building tree 16 of 25\n",
      "building tree 17 of 25\n",
      "building tree 18 of 25\n",
      "building tree 19 of 25\n",
      "building tree 20 of 25\n",
      "building tree 21 of 25\n",
      "building tree 22 of 25\n",
      "building tree 23 of 25\n",
      "building tree 24 of 25\n",
      "building tree 25 of 25\n"
     ]
    },
    {
     "name": "stderr",
     "output_type": "stream",
     "text": [
      "[Parallel(n_jobs=-1)]: Done  23 out of  25 | elapsed:  1.1min remaining:    5.7s\n",
      "[Parallel(n_jobs=-1)]: Done  25 out of  25 | elapsed:  1.2min finished\n",
      "[Parallel(n_jobs=8)]: Using backend ThreadingBackend with 8 concurrent workers.\n"
     ]
    },
    {
     "name": "stdout",
     "output_type": "stream",
     "text": [
      "---------------\n",
      "Modelo treinado\n",
      "---------------\n"
     ]
    },
    {
     "name": "stderr",
     "output_type": "stream",
     "text": [
      "[Parallel(n_jobs=8)]: Done  23 out of  25 | elapsed:    0.8s remaining:    0.0s\n",
      "[Parallel(n_jobs=8)]: Done  25 out of  25 | elapsed:    0.9s finished\n"
     ]
    },
    {
     "name": "stdout",
     "output_type": "stream",
     "text": [
      "              precision    recall  f1-score   support\n",
      "\n",
      "           0       0.90      0.88      0.89    122690\n",
      "           1       0.90      0.92      0.91    137250\n",
      "\n",
      "    accuracy                           0.90    259940\n",
      "   macro avg       0.90      0.90      0.90    259940\n",
      "weighted avg       0.90      0.90      0.90    259940\n",
      "\n"
     ]
    }
   ],
   "source": [
    "dtree = geraModeloML(1, 6, 25)"
   ]
  },
  {
   "cell_type": "code",
   "execution_count": 31,
   "metadata": {},
   "outputs": [
    {
     "name": "stderr",
     "output_type": "stream",
     "text": [
      "C:\\Users\\Pedro\\Anaconda3\\lib\\site-packages\\ipykernel_launcher.py:29: SettingWithCopyWarning: \n",
      "A value is trying to be set on a copy of a slice from a DataFrame\n",
      "\n",
      "See the caveats in the documentation: http://pandas.pydata.org/pandas-docs/stable/user_guide/indexing.html#returning-a-view-versus-a-copy\n",
      "[Parallel(n_jobs=8)]: Using backend ThreadingBackend with 8 concurrent workers.\n",
      "[Parallel(n_jobs=8)]: Done  23 out of  25 | elapsed:    0.9s remaining:    0.0s\n",
      "[Parallel(n_jobs=8)]: Done  25 out of  25 | elapsed:    1.1s finished\n"
     ]
    },
    {
     "name": "stdout",
     "output_type": "stream",
     "text": [
      "              precision    recall  f1-score   support\n",
      "\n",
      "           0       0.97      0.96      0.96    245761\n",
      "           1       0.96      0.97      0.96    244126\n",
      "\n",
      "    accuracy                           0.96    489887\n",
      "   macro avg       0.96      0.96      0.96    489887\n",
      "weighted avg       0.96      0.96      0.96    489887\n",
      "\n"
     ]
    }
   ],
   "source": [
    "#Teste Especificidade\n",
    "testeEspecificidade(dtree, 7, 5)"
   ]
  },
  {
   "cell_type": "code",
   "execution_count": 14,
   "metadata": {},
   "outputs": [],
   "source": [
    "#Salvando os modelos\n",
    "nome = 'FRANCESCO_VIRGOLINI'\n",
    "pickle.dump(dtree, open(nome + '.sat', 'wb'))"
   ]
  },
  {
   "cell_type": "markdown",
   "metadata": {},
   "source": [
    "# Testes de arquivos com erro"
   ]
  },
  {
   "cell_type": "code",
   "execution_count": 16,
   "metadata": {},
   "outputs": [],
   "source": [
    "mats = (loadmat(\"24_session1.mat\"), loadmat(\"24_session2.mat\"))"
   ]
  },
  {
   "cell_type": "code",
   "execution_count": 17,
   "metadata": {
    "scrolled": true
   },
   "outputs": [
    {
     "name": "stdout",
     "output_type": "stream",
     "text": [
      "dataAfterSession\n",
      "dataBeforeSession\n",
      "dataDuringSession\n",
      "date1\n",
      "date2\n"
     ]
    }
   ],
   "source": [
    "for i in mats[0]:\n",
    "    print(i)"
   ]
  },
  {
   "cell_type": "code",
   "execution_count": 18,
   "metadata": {},
   "outputs": [
    {
     "name": "stdout",
     "output_type": "stream",
     "text": [
      "dataAfterSession\n",
      "dataBeforeSession\n",
      "dataDuringSession\n",
      "date1\n",
      "date2\n"
     ]
    }
   ],
   "source": [
    "for i in mats[1]:\n",
    "    print(i)"
   ]
  },
  {
   "cell_type": "markdown",
   "metadata": {},
   "source": [
    "# Testes de erros"
   ]
  },
  {
   "cell_type": "code",
   "execution_count": 108,
   "metadata": {},
   "outputs": [
    {
     "data": {
      "text/html": [
       "<div>\n",
       "<style scoped>\n",
       "    .dataframe tbody tr th:only-of-type {\n",
       "        vertical-align: middle;\n",
       "    }\n",
       "\n",
       "    .dataframe tbody tr th {\n",
       "        vertical-align: top;\n",
       "    }\n",
       "\n",
       "    .dataframe thead th {\n",
       "        text-align: right;\n",
       "    }\n",
       "</style>\n",
       "<table border=\"1\" class=\"dataframe\">\n",
       "  <thead>\n",
       "    <tr style=\"text-align: right;\">\n",
       "      <th></th>\n",
       "      <th>F3</th>\n",
       "      <th>F4</th>\n",
       "      <th>AF3</th>\n",
       "      <th>AF4</th>\n",
       "      <th>C5</th>\n",
       "      <th>C6</th>\n",
       "      <th>C3</th>\n",
       "      <th>C4</th>\n",
       "      <th>C1</th>\n",
       "      <th>C2</th>\n",
       "      <th>P3</th>\n",
       "      <th>P4</th>\n",
       "      <th>P5</th>\n",
       "      <th>P6</th>\n",
       "      <th>Fz</th>\n",
       "      <th>Cz</th>\n",
       "      <th>State</th>\n",
       "    </tr>\n",
       "  </thead>\n",
       "  <tbody>\n",
       "    <tr>\n",
       "      <td>0</td>\n",
       "      <td>-0.441269</td>\n",
       "      <td>0.097275</td>\n",
       "      <td>-0.392340</td>\n",
       "      <td>0.063542</td>\n",
       "      <td>-0.377676</td>\n",
       "      <td>0.067796</td>\n",
       "      <td>-0.532907</td>\n",
       "      <td>-0.400908</td>\n",
       "      <td>-0.085700</td>\n",
       "      <td>-0.035990</td>\n",
       "      <td>-0.047912</td>\n",
       "      <td>-0.031253</td>\n",
       "      <td>-0.063908</td>\n",
       "      <td>-0.055511</td>\n",
       "      <td>-0.100999</td>\n",
       "      <td>-0.128917</td>\n",
       "      <td>1</td>\n",
       "    </tr>\n",
       "    <tr>\n",
       "      <td>1</td>\n",
       "      <td>-0.460934</td>\n",
       "      <td>0.190246</td>\n",
       "      <td>-0.353629</td>\n",
       "      <td>0.119839</td>\n",
       "      <td>-0.359585</td>\n",
       "      <td>0.116139</td>\n",
       "      <td>-0.559365</td>\n",
       "      <td>-0.381257</td>\n",
       "      <td>-0.037594</td>\n",
       "      <td>0.053051</td>\n",
       "      <td>-0.013619</td>\n",
       "      <td>0.035111</td>\n",
       "      <td>-0.025323</td>\n",
       "      <td>0.012902</td>\n",
       "      <td>0.007747</td>\n",
       "      <td>-0.066189</td>\n",
       "      <td>1</td>\n",
       "    </tr>\n",
       "    <tr>\n",
       "      <td>2</td>\n",
       "      <td>-0.435201</td>\n",
       "      <td>0.374306</td>\n",
       "      <td>-0.165010</td>\n",
       "      <td>0.240844</td>\n",
       "      <td>-0.215249</td>\n",
       "      <td>0.167403</td>\n",
       "      <td>-0.522595</td>\n",
       "      <td>-0.271136</td>\n",
       "      <td>0.041321</td>\n",
       "      <td>0.240608</td>\n",
       "      <td>0.039850</td>\n",
       "      <td>0.137700</td>\n",
       "      <td>0.085469</td>\n",
       "      <td>0.121966</td>\n",
       "      <td>0.239666</td>\n",
       "      <td>0.067196</td>\n",
       "      <td>1</td>\n",
       "    </tr>\n",
       "    <tr>\n",
       "      <td>3</td>\n",
       "      <td>-0.181488</td>\n",
       "      <td>0.482804</td>\n",
       "      <td>0.178046</td>\n",
       "      <td>0.351339</td>\n",
       "      <td>-0.003752</td>\n",
       "      <td>0.093290</td>\n",
       "      <td>-0.232500</td>\n",
       "      <td>-0.022617</td>\n",
       "      <td>0.096894</td>\n",
       "      <td>0.402355</td>\n",
       "      <td>0.080995</td>\n",
       "      <td>0.157154</td>\n",
       "      <td>0.225024</td>\n",
       "      <td>0.159010</td>\n",
       "      <td>0.456962</td>\n",
       "      <td>0.168131</td>\n",
       "      <td>1</td>\n",
       "    </tr>\n",
       "    <tr>\n",
       "      <td>4</td>\n",
       "      <td>0.064328</td>\n",
       "      <td>0.467191</td>\n",
       "      <td>0.318048</td>\n",
       "      <td>0.438523</td>\n",
       "      <td>0.021823</td>\n",
       "      <td>-0.020052</td>\n",
       "      <td>0.061440</td>\n",
       "      <td>0.054075</td>\n",
       "      <td>0.076219</td>\n",
       "      <td>0.382023</td>\n",
       "      <td>0.088977</td>\n",
       "      <td>0.061610</td>\n",
       "      <td>0.234157</td>\n",
       "      <td>0.105605</td>\n",
       "      <td>0.484027</td>\n",
       "      <td>0.113281</td>\n",
       "      <td>1</td>\n",
       "    </tr>\n",
       "    <tr>\n",
       "      <td>...</td>\n",
       "      <td>...</td>\n",
       "      <td>...</td>\n",
       "      <td>...</td>\n",
       "      <td>...</td>\n",
       "      <td>...</td>\n",
       "      <td>...</td>\n",
       "      <td>...</td>\n",
       "      <td>...</td>\n",
       "      <td>...</td>\n",
       "      <td>...</td>\n",
       "      <td>...</td>\n",
       "      <td>...</td>\n",
       "      <td>...</td>\n",
       "      <td>...</td>\n",
       "      <td>...</td>\n",
       "      <td>...</td>\n",
       "      <td>...</td>\n",
       "    </tr>\n",
       "    <tr>\n",
       "      <td>489882</td>\n",
       "      <td>0.115062</td>\n",
       "      <td>0.343209</td>\n",
       "      <td>0.173172</td>\n",
       "      <td>0.334370</td>\n",
       "      <td>0.164720</td>\n",
       "      <td>0.309254</td>\n",
       "      <td>0.142191</td>\n",
       "      <td>0.101277</td>\n",
       "      <td>0.322326</td>\n",
       "      <td>0.250737</td>\n",
       "      <td>0.134285</td>\n",
       "      <td>0.206882</td>\n",
       "      <td>0.176317</td>\n",
       "      <td>0.306857</td>\n",
       "      <td>0.341084</td>\n",
       "      <td>0.323647</td>\n",
       "      <td>0</td>\n",
       "    </tr>\n",
       "    <tr>\n",
       "      <td>489883</td>\n",
       "      <td>0.195988</td>\n",
       "      <td>0.326492</td>\n",
       "      <td>0.216806</td>\n",
       "      <td>0.319161</td>\n",
       "      <td>0.208428</td>\n",
       "      <td>0.285438</td>\n",
       "      <td>0.217054</td>\n",
       "      <td>0.177621</td>\n",
       "      <td>0.296716</td>\n",
       "      <td>0.235304</td>\n",
       "      <td>0.124468</td>\n",
       "      <td>0.196079</td>\n",
       "      <td>0.174263</td>\n",
       "      <td>0.282294</td>\n",
       "      <td>0.323843</td>\n",
       "      <td>0.300442</td>\n",
       "      <td>0</td>\n",
       "    </tr>\n",
       "    <tr>\n",
       "      <td>489884</td>\n",
       "      <td>0.272219</td>\n",
       "      <td>0.305049</td>\n",
       "      <td>0.244604</td>\n",
       "      <td>0.300065</td>\n",
       "      <td>0.236844</td>\n",
       "      <td>0.263191</td>\n",
       "      <td>0.254883</td>\n",
       "      <td>0.217745</td>\n",
       "      <td>0.273738</td>\n",
       "      <td>0.223791</td>\n",
       "      <td>0.115687</td>\n",
       "      <td>0.185164</td>\n",
       "      <td>0.186798</td>\n",
       "      <td>0.262393</td>\n",
       "      <td>0.304680</td>\n",
       "      <td>0.275629</td>\n",
       "      <td>0</td>\n",
       "    </tr>\n",
       "    <tr>\n",
       "      <td>489885</td>\n",
       "      <td>0.288149</td>\n",
       "      <td>0.293758</td>\n",
       "      <td>0.278124</td>\n",
       "      <td>0.289324</td>\n",
       "      <td>0.242794</td>\n",
       "      <td>0.251438</td>\n",
       "      <td>0.261904</td>\n",
       "      <td>0.241958</td>\n",
       "      <td>0.262298</td>\n",
       "      <td>0.218120</td>\n",
       "      <td>0.104999</td>\n",
       "      <td>0.175924</td>\n",
       "      <td>0.213346</td>\n",
       "      <td>0.249173</td>\n",
       "      <td>0.294479</td>\n",
       "      <td>0.260069</td>\n",
       "      <td>0</td>\n",
       "    </tr>\n",
       "    <tr>\n",
       "      <td>489886</td>\n",
       "      <td>0.255909</td>\n",
       "      <td>0.294778</td>\n",
       "      <td>0.306395</td>\n",
       "      <td>0.288110</td>\n",
       "      <td>0.220324</td>\n",
       "      <td>0.249382</td>\n",
       "      <td>0.263145</td>\n",
       "      <td>0.272181</td>\n",
       "      <td>0.258390</td>\n",
       "      <td>0.214563</td>\n",
       "      <td>0.092957</td>\n",
       "      <td>0.169451</td>\n",
       "      <td>0.234998</td>\n",
       "      <td>0.241721</td>\n",
       "      <td>0.294438</td>\n",
       "      <td>0.257225</td>\n",
       "      <td>0</td>\n",
       "    </tr>\n",
       "  </tbody>\n",
       "</table>\n",
       "<p>489887 rows × 17 columns</p>\n",
       "</div>"
      ],
      "text/plain": [
       "              F3        F4       AF3       AF4        C5        C6        C3  \\\n",
       "0      -0.441269  0.097275 -0.392340  0.063542 -0.377676  0.067796 -0.532907   \n",
       "1      -0.460934  0.190246 -0.353629  0.119839 -0.359585  0.116139 -0.559365   \n",
       "2      -0.435201  0.374306 -0.165010  0.240844 -0.215249  0.167403 -0.522595   \n",
       "3      -0.181488  0.482804  0.178046  0.351339 -0.003752  0.093290 -0.232500   \n",
       "4       0.064328  0.467191  0.318048  0.438523  0.021823 -0.020052  0.061440   \n",
       "...          ...       ...       ...       ...       ...       ...       ...   \n",
       "489882  0.115062  0.343209  0.173172  0.334370  0.164720  0.309254  0.142191   \n",
       "489883  0.195988  0.326492  0.216806  0.319161  0.208428  0.285438  0.217054   \n",
       "489884  0.272219  0.305049  0.244604  0.300065  0.236844  0.263191  0.254883   \n",
       "489885  0.288149  0.293758  0.278124  0.289324  0.242794  0.251438  0.261904   \n",
       "489886  0.255909  0.294778  0.306395  0.288110  0.220324  0.249382  0.263145   \n",
       "\n",
       "              C4        C1        C2        P3        P4        P5        P6  \\\n",
       "0      -0.400908 -0.085700 -0.035990 -0.047912 -0.031253 -0.063908 -0.055511   \n",
       "1      -0.381257 -0.037594  0.053051 -0.013619  0.035111 -0.025323  0.012902   \n",
       "2      -0.271136  0.041321  0.240608  0.039850  0.137700  0.085469  0.121966   \n",
       "3      -0.022617  0.096894  0.402355  0.080995  0.157154  0.225024  0.159010   \n",
       "4       0.054075  0.076219  0.382023  0.088977  0.061610  0.234157  0.105605   \n",
       "...          ...       ...       ...       ...       ...       ...       ...   \n",
       "489882  0.101277  0.322326  0.250737  0.134285  0.206882  0.176317  0.306857   \n",
       "489883  0.177621  0.296716  0.235304  0.124468  0.196079  0.174263  0.282294   \n",
       "489884  0.217745  0.273738  0.223791  0.115687  0.185164  0.186798  0.262393   \n",
       "489885  0.241958  0.262298  0.218120  0.104999  0.175924  0.213346  0.249173   \n",
       "489886  0.272181  0.258390  0.214563  0.092957  0.169451  0.234998  0.241721   \n",
       "\n",
       "              Fz        Cz  State  \n",
       "0      -0.100999 -0.128917      1  \n",
       "1       0.007747 -0.066189      1  \n",
       "2       0.239666  0.067196      1  \n",
       "3       0.456962  0.168131      1  \n",
       "4       0.484027  0.113281      1  \n",
       "...          ...       ...    ...  \n",
       "489882  0.341084  0.323647      0  \n",
       "489883  0.323843  0.300442      0  \n",
       "489884  0.304680  0.275629      0  \n",
       "489885  0.294479  0.260069      0  \n",
       "489886  0.294438  0.257225      0  \n",
       "\n",
       "[489887 rows x 17 columns]"
      ]
     },
     "execution_count": 108,
     "metadata": {},
     "output_type": "execute_result"
    }
   ],
   "source": [
    "df"
   ]
  },
  {
   "cell_type": "code",
   "execution_count": null,
   "metadata": {},
   "outputs": [],
   "source": []
  }
 ],
 "metadata": {
  "kernelspec": {
   "display_name": "Python 3",
   "language": "python",
   "name": "python3"
  },
  "language_info": {
   "codemirror_mode": {
    "name": "ipython",
    "version": 3
   },
   "file_extension": ".py",
   "mimetype": "text/x-python",
   "name": "python",
   "nbconvert_exporter": "python",
   "pygments_lexer": "ipython3",
   "version": "3.7.4"
  }
 },
 "nbformat": 4,
 "nbformat_minor": 2
}
